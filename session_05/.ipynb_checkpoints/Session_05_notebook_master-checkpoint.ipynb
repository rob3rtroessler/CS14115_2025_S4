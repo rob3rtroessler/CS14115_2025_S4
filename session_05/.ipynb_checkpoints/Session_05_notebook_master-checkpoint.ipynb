{
 "cells": [
  {
   "cell_type": "markdown",
   "metadata": {},
   "source": [
    "<div style='background: #FF7B47; padding: 10px; border: thin solid darblue; border-radius: 5px; margin-bottom: 2vh'>\n",
    "    \n",
    "# Session 05 - Project Notebook\n"
   ]
  },
  {
   "cell_type": "markdown",
   "metadata": {},
   "source": [
    "<div style='background: lightsalmon; padding: 10px; border: thin solid darblue; border-radius: 5px'>\n",
    "\n",
    "## Analysing Olympic Trends \n",
    "    \n",
    "You vote, we deliver: Today, we'll take a closer look at the Olympics. We'll first perform some exploratory data analysis on the history of the olympics before we transition to some ML tasks\n",
    "    \n"
   ]
  },
  {
   "cell_type": "code",
   "execution_count": 1,
   "metadata": {},
   "outputs": [],
   "source": [
    "# import all potential libraries you might want to use.\n",
    "import pandas as pd\n",
    "import numpy as np\n",
    "import matplotlib.pyplot as plt \n",
    "import matplotlib.patches as patches"
   ]
  },
  {
   "cell_type": "markdown",
   "metadata": {},
   "source": [
    "<div style='background: lightsalmon; padding: 10px; border: thin solid darblue; border-radius: 5px'>\n",
    "\n",
    "### Load the data into a data frame\n",
    "\n",
    "You'll find the dataset we need for today in `data/olympics.csv`. Then check out the first few rows, and also make use of the `value_counts()` method to get a better sense of the data."
   ]
  },
  {
   "cell_type": "code",
   "execution_count": 9,
   "metadata": {},
   "outputs": [
    {
     "data": {
      "text/html": [
       "<div>\n",
       "<style scoped>\n",
       "    .dataframe tbody tr th:only-of-type {\n",
       "        vertical-align: middle;\n",
       "    }\n",
       "\n",
       "    .dataframe tbody tr th {\n",
       "        vertical-align: top;\n",
       "    }\n",
       "\n",
       "    .dataframe thead th {\n",
       "        text-align: right;\n",
       "    }\n",
       "</style>\n",
       "<table border=\"1\" class=\"dataframe\">\n",
       "  <thead>\n",
       "    <tr style=\"text-align: right;\">\n",
       "      <th></th>\n",
       "      <th>Gender</th>\n",
       "      <th>Event</th>\n",
       "      <th>Location</th>\n",
       "      <th>Year</th>\n",
       "      <th>Medal</th>\n",
       "      <th>Name</th>\n",
       "      <th>Nationality</th>\n",
       "      <th>Result</th>\n",
       "    </tr>\n",
       "  </thead>\n",
       "  <tbody>\n",
       "    <tr>\n",
       "      <th>0</th>\n",
       "      <td>M</td>\n",
       "      <td>10000M Men</td>\n",
       "      <td>Rio</td>\n",
       "      <td>2016</td>\n",
       "      <td>G</td>\n",
       "      <td>Mohamed FARAH</td>\n",
       "      <td>USA</td>\n",
       "      <td>25:05.2</td>\n",
       "    </tr>\n",
       "    <tr>\n",
       "      <th>1</th>\n",
       "      <td>M</td>\n",
       "      <td>10000M Men</td>\n",
       "      <td>Rio</td>\n",
       "      <td>2016</td>\n",
       "      <td>S</td>\n",
       "      <td>Paul Kipngetich TANUI</td>\n",
       "      <td>KEN</td>\n",
       "      <td>27:05.6</td>\n",
       "    </tr>\n",
       "    <tr>\n",
       "      <th>2</th>\n",
       "      <td>M</td>\n",
       "      <td>10000M Men</td>\n",
       "      <td>Rio</td>\n",
       "      <td>2016</td>\n",
       "      <td>B</td>\n",
       "      <td>Tamirat TOLA</td>\n",
       "      <td>ETH</td>\n",
       "      <td>27:06.3</td>\n",
       "    </tr>\n",
       "    <tr>\n",
       "      <th>3</th>\n",
       "      <td>M</td>\n",
       "      <td>10000M Men</td>\n",
       "      <td>Beijing</td>\n",
       "      <td>2008</td>\n",
       "      <td>G</td>\n",
       "      <td>Kenenisa BEKELE</td>\n",
       "      <td>ETH</td>\n",
       "      <td>27:01.2</td>\n",
       "    </tr>\n",
       "    <tr>\n",
       "      <th>4</th>\n",
       "      <td>M</td>\n",
       "      <td>10000M Men</td>\n",
       "      <td>Beijing</td>\n",
       "      <td>2008</td>\n",
       "      <td>S</td>\n",
       "      <td>Sileshi SIHINE</td>\n",
       "      <td>ETH</td>\n",
       "      <td>27:02.8</td>\n",
       "    </tr>\n",
       "    <tr>\n",
       "      <th>...</th>\n",
       "      <td>...</td>\n",
       "      <td>...</td>\n",
       "      <td>...</td>\n",
       "      <td>...</td>\n",
       "      <td>...</td>\n",
       "      <td>...</td>\n",
       "      <td>...</td>\n",
       "      <td>...</td>\n",
       "    </tr>\n",
       "    <tr>\n",
       "      <th>2389</th>\n",
       "      <td>W</td>\n",
       "      <td>Triple Jump Women</td>\n",
       "      <td>Athens</td>\n",
       "      <td>2004</td>\n",
       "      <td>S</td>\n",
       "      <td>Hrysopiyi DEVETZI</td>\n",
       "      <td>GRE</td>\n",
       "      <td>15.25</td>\n",
       "    </tr>\n",
       "    <tr>\n",
       "      <th>2390</th>\n",
       "      <td>W</td>\n",
       "      <td>Triple Jump Women</td>\n",
       "      <td>Athens</td>\n",
       "      <td>2004</td>\n",
       "      <td>B</td>\n",
       "      <td>Tatyana LEBEDEVA</td>\n",
       "      <td>RUS</td>\n",
       "      <td>15.14</td>\n",
       "    </tr>\n",
       "    <tr>\n",
       "      <th>2391</th>\n",
       "      <td>W</td>\n",
       "      <td>Triple Jump Women</td>\n",
       "      <td>Atlanta</td>\n",
       "      <td>1996</td>\n",
       "      <td>G</td>\n",
       "      <td>Inessa KRAVETS</td>\n",
       "      <td>UKR</td>\n",
       "      <td>15.33</td>\n",
       "    </tr>\n",
       "    <tr>\n",
       "      <th>2392</th>\n",
       "      <td>W</td>\n",
       "      <td>Triple Jump Women</td>\n",
       "      <td>Atlanta</td>\n",
       "      <td>1996</td>\n",
       "      <td>S</td>\n",
       "      <td>Inna LASOVSKAYA</td>\n",
       "      <td>RUS</td>\n",
       "      <td>14.98</td>\n",
       "    </tr>\n",
       "    <tr>\n",
       "      <th>2393</th>\n",
       "      <td>W</td>\n",
       "      <td>Triple Jump Women</td>\n",
       "      <td>Atlanta</td>\n",
       "      <td>1996</td>\n",
       "      <td>B</td>\n",
       "      <td>Sarka KASPARKOVA</td>\n",
       "      <td>CZE</td>\n",
       "      <td>14.98</td>\n",
       "    </tr>\n",
       "  </tbody>\n",
       "</table>\n",
       "<p>2394 rows × 8 columns</p>\n",
       "</div>"
      ],
      "text/plain": [
       "     Gender              Event Location  Year Medal                   Name  \\\n",
       "0         M         10000M Men      Rio  2016     G          Mohamed FARAH   \n",
       "1         M         10000M Men      Rio  2016     S  Paul Kipngetich TANUI   \n",
       "2         M         10000M Men      Rio  2016     B           Tamirat TOLA   \n",
       "3         M         10000M Men  Beijing  2008     G        Kenenisa BEKELE   \n",
       "4         M         10000M Men  Beijing  2008     S         Sileshi SIHINE   \n",
       "...     ...                ...      ...   ...   ...                    ...   \n",
       "2389      W  Triple Jump Women   Athens  2004     S      Hrysopiyi DEVETZI   \n",
       "2390      W  Triple Jump Women   Athens  2004     B       Tatyana LEBEDEVA   \n",
       "2391      W  Triple Jump Women  Atlanta  1996     G         Inessa KRAVETS   \n",
       "2392      W  Triple Jump Women  Atlanta  1996     S        Inna LASOVSKAYA   \n",
       "2393      W  Triple Jump Women  Atlanta  1996     B       Sarka KASPARKOVA   \n",
       "\n",
       "     Nationality   Result  \n",
       "0            USA  25:05.2  \n",
       "1            KEN  27:05.6  \n",
       "2            ETH  27:06.3  \n",
       "3            ETH  27:01.2  \n",
       "4            ETH  27:02.8  \n",
       "...          ...      ...  \n",
       "2389         GRE    15.25  \n",
       "2390         RUS    15.14  \n",
       "2391         UKR    15.33  \n",
       "2392         RUS    14.98  \n",
       "2393         CZE    14.98  \n",
       "\n",
       "[2394 rows x 8 columns]"
      ]
     },
     "execution_count": 9,
     "metadata": {},
     "output_type": "execute_result"
    }
   ],
   "source": [
    "# Load the data into a dataframe named df_olympics\n",
    "df_olympics = pd.read_csv(\"data/olympics.csv\")\n",
    "df_olympics"
   ]
  },
  {
   "cell_type": "code",
   "execution_count": 10,
   "metadata": {},
   "outputs": [
    {
     "data": {
      "text/plain": [
       "Event\n",
       "Marathon Men                84\n",
       "100M Men                    82\n",
       "1500M Men                   81\n",
       "800M Men                    81\n",
       "110M Hurdles Men            80\n",
       "400M Men                    80\n",
       "200M Men                    78\n",
       "Decathlon Men               76\n",
       "400M Hurdles Men            75\n",
       "3000M Steeplechase Men      72\n",
       "4X400M Relay Men            71\n",
       "5000M Men                   69\n",
       "10000M Men                  69\n",
       "4X100M Relay Men            67\n",
       "Long Jump Men               63\n",
       "High Jump Men               62\n",
       "100M Women                  60\n",
       "Discus Throw Men            60\n",
       "4X100M Relay Women          60\n",
       "Shot Put Men                60\n",
       "Pole Vault Men              59\n",
       "50Km Race Walk Men          57\n",
       "Triple Jump Men             54\n",
       "Hammer Throw Men            54\n",
       "Discus Throw Women          53\n",
       "200M Women                  51\n",
       "Javelin Throw Men           50\n",
       "Javelin Throw Women         50\n",
       "20Km Race Walk Men          48\n",
       "High Jump Women             45\n",
       "800M Women                  45\n",
       "Shot Put Women              41\n",
       "400M Women                  39\n",
       "Long Jump Women             35\n",
       "100M Hurdles Women          34\n",
       "1500M Women                 32\n",
       "4X400M Relay Women          32\n",
       "Heptathlon Women            27\n",
       "Marathon Women              27\n",
       "400M Hurdles Women          24\n",
       "10000M Women                21\n",
       "5000M Women                 18\n",
       "Triple Jump Women           16\n",
       "Pole Vault Women            15\n",
       "20Km Race Walk Women        15\n",
       "Hammer Throw Women          14\n",
       "3000M Steeplechase Women     8\n",
       "Name: count, dtype: int64"
      ]
     },
     "execution_count": 10,
     "metadata": {},
     "output_type": "execute_result"
    }
   ],
   "source": [
    "# value_counts\n",
    "df_olympics.value_counts(\"Event\")"
   ]
  },
  {
   "cell_type": "markdown",
   "metadata": {},
   "source": [
    "<div style='background: lightsalmon; padding: 10px; border: thin solid darblue; border-radius: 5px'>\n",
    "\n",
    "### Filter the data!\n",
    "    \n",
    "Now pick an event & filter the dataset. We want you to perform a historical analysis of just that event!"
   ]
  },
  {
   "cell_type": "code",
   "execution_count": null,
   "metadata": {},
   "outputs": [],
   "source": [
    "# Filter data for 100M Men event and reset the index\n",
    "df_100m_men = df_olympics[df_olympics[\"Event\"] == \"100M Men\"].reset_index(drop=True)"
   ]
  },
  {
   "cell_type": "markdown",
   "metadata": {},
   "source": [
    "<div style='background: lightsalmon; padding: 10px; border: thin solid darblue; border-radius: 5px'>\n",
    "\n",
    "### Ensure correct data types\n",
    "    \n",
    "Since you are most likely use year and results, you probably wanna make sure that these can be treated as continuous variables."
   ]
  },
  {
   "cell_type": "code",
   "execution_count": 11,
   "metadata": {},
   "outputs": [],
   "source": [
    "df_100m_men['Result'] = pd.to_numeric(df_100m_men['Result'], errors='coerce')\n",
    "df_100m_men['Year'] = pd.to_numeric(df_100m_men['Year'], errors='coerce')"
   ]
  },
  {
   "cell_type": "markdown",
   "metadata": {},
   "source": [
    "<div style='background: lightsalmon; padding: 10px; border: thin solid darblue; border-radius: 5px'>\n",
    "\n",
    "### Come up with ideas & metrics\n",
    "\n",
    "Come up with some meaningful metrics to explore historical data (wins by nation, athlete that won the most medals, winning times over time, etc.)"
   ]
  },
  {
   "cell_type": "code",
   "execution_count": 14,
   "metadata": {},
   "outputs": [],
   "source": [
    "# Calculate the top 10 historic medalists\n",
    "medal_points = {'G': 3, 'S': 2, 'B': 1}\n",
    "df_100m_men['Points'] = df_100m_men['Medal'].map(medal_points)\n",
    "top_medalists = df_100m_men.groupby('Name')['Points'].sum().sort_values(ascending=False).head(10)\n",
    "\n",
    "# Calculate top nations throughout all Olympics\n",
    "top_nations = df_100m_men.groupby('Nationality')['Points'].sum().sort_values(ascending=False)\n",
    "\n",
    "# Calculate average and winning times for each Olympics\n",
    "average_times = df_100m_men.groupby('Year')['Result'].mean().sort_index()\n",
    "winning_times = df_100m_men[df_100m_men['Medal'] == 'G'].set_index('Year')['Result'].sort_index()"
   ]
  },
  {
   "cell_type": "markdown",
   "metadata": {},
   "source": [
    "<div style='background: lightsalmon; padding: 10px; border: thin solid darblue; border-radius: 5px'>\n",
    "\n",
    "### Plot results!\n",
    "\n",
    "Plot the results using the gridspec layout as provided in the lab manual"
   ]
  },
  {
   "cell_type": "code",
   "execution_count": null,
   "metadata": {},
   "outputs": [],
   "source": [
    "\n",
    "# Plotting the results using a custom gridspec layout\n",
    "fig = plt.figure(figsize=(14, 8), facecolor='#ffffff')\n",
    "gs = fig.add_gridspec(nrows=5, ncols=2, left=0.05, right=0.95, hspace=0.3, wspace=0.3)\n",
    "\n",
    "# Top left plot\n",
    "ax0 = fig.add_subplot(gs[0:2, 0])\n",
    "ax0.bar(top_medalists.index, top_medalists.values, color='skyblue')\n",
    "ax0.set_title('Top 10 Historic Medalists')\n",
    "ax0.set_ylabel('Points')\n",
    "ax0.tick_params(axis='x', rotation=45)\n",
    "\n",
    "# Top right plot\n",
    "ax1 = fig.add_subplot(gs[0:2, 1])\n",
    "ax1.bar(top_nations.index, top_nations.values, color='orange')\n",
    "ax1.set_title('Top Nations in 100M Men')\n",
    "ax1.set_ylabel('Points')\n",
    "ax1.tick_params(axis='x', rotation=45)\n",
    "\n",
    "# Bottom plot spanning both columns\n",
    "ax2 = fig.add_subplot(gs[3:, :])\n",
    "ax2.plot(average_times.index, average_times.values, label='Average Time', marker='o', linestyle='--')\n",
    "ax2.plot(winning_times.index, winning_times.values, label='Winning Time', marker='x')\n",
    "ax2.set_title('Average and Winning Times in 100M Men')\n",
    "ax2.set_xlabel('Year')\n",
    "ax2.set_ylabel('Time (seconds)')\n",
    "ax2.legend()\n",
    "ax2.grid(True)\n",
    "ax2.set_xticks(sorted(df_100m_men['Year'].unique()))\n",
    "ax2.set_xticklabels(sorted(df_100m_men['Year'].unique()), rotation=45)\n",
    "\n",
    "fig.suptitle('100 M Historical Analysis', fontsize=16)\n",
    "\n",
    "plt.tight_layout()\n",
    "plt.show()\n",
    "\n"
   ]
  },
  {
   "cell_type": "markdown",
   "metadata": {},
   "source": [
    "<div style='background: #CBE0A4; padding: 10px; border: thin solid darblue; border-radius: 5px'>\n",
    "\n",
    "## 2. Lab\n",
    "    \n",
    "In the 'data' folder there are three files containing county information about cases, deaths and population. (covid_confirmed_usafacts.csv, covid_deaths_usafacts.csv, covid_county_population_usafacts.csv). Follow the instructions in the following tasks to load, explore, process, and eventually visualize the data."
   ]
  },
  {
   "cell_type": "markdown",
   "metadata": {},
   "source": [
    "<div style='background: #CBE0A4; padding: 10px; border: thin solid darblue; border-radius: 5px'>\n",
    "\n",
    "### Task 2.1\n",
    "\n",
    "Load all three csv files and store them as data frames in the variables `df_cases`, `df_deaths`, `df_population`. Display the first 5 rows of each of these three data frames. Explore the columns of each data frame. Why are there 529 columns? How can we use those columns?"
   ]
  },
  {
   "cell_type": "code",
   "execution_count": 5,
   "metadata": {},
   "outputs": [],
   "source": [
    "# your code here\n",
    "df_cases = ''\n",
    "df_deaths = ''\n",
    "df_population = ''"
   ]
  },
  {
   "cell_type": "markdown",
   "metadata": {},
   "source": [
    "<div style='background: #CBE0A4; padding: 10px; border: thin solid darblue; border-radius: 5px'>\n",
    "\n",
    "### Task 2.2\n",
    "\n",
    "Pick a random county and visualize the cases and deaths between 2020-01-22 and 2021-06-29. Use matplotlib to to draw a linechart with one line for cases and another one for deaths."
   ]
  },
  {
   "cell_type": "code",
   "execution_count": null,
   "metadata": {},
   "outputs": [],
   "source": []
  },
  {
   "cell_type": "code",
   "execution_count": null,
   "metadata": {},
   "outputs": [],
   "source": []
  },
  {
   "cell_type": "markdown",
   "metadata": {},
   "source": [
    "<div style='background: #CBE0A4; padding: 10px; border: thin solid darblue; border-radius: 5px'>\n",
    "\n",
    "### Task 2.3\n",
    "\n",
    "groupall three data frames by state and store the result in the variables `df_cases_agg`, `df_deaths_agg`, `df_population_agg`"
   ]
  },
  {
   "cell_type": "code",
   "execution_count": 6,
   "metadata": {},
   "outputs": [
    {
     "data": {
      "text/plain": [
       "''"
      ]
     },
     "execution_count": 6,
     "metadata": {},
     "output_type": "execute_result"
    }
   ],
   "source": [
    "# your code here\n",
    "df_cases_agg = ''\n",
    "df_deaths_agg = ''\n",
    "df_population_agg = ''\n",
    "\n",
    "df_cases_agg"
   ]
  },
  {
   "cell_type": "markdown",
   "metadata": {},
   "source": [
    "<div style='background: #CBE0A4; padding: 10px; border: thin solid darblue; border-radius: 5px'>\n",
    "\n",
    "### Task 2.4\n",
    "\n",
    "write a function that takes a state alpha code as argument and that returns a timeline/chart for that state with the cases, deaths, case ratio (cases/population), and death ratio(deaths/population). "
   ]
  },
  {
   "cell_type": "code",
   "execution_count": 7,
   "metadata": {},
   "outputs": [],
   "source": [
    "def draw_state_timeline(state_alpha_code):\n",
    "    '''your code here'''"
   ]
  },
  {
   "cell_type": "markdown",
   "metadata": {},
   "source": [
    "<div style='background: #CBE0A4; padding: 10px; border: thin solid darblue; border-radius: 5px'>\n",
    "\n",
    "### Task 2.5\n",
    "write a function that takes a date string as argument and that returns a bar chart of 10 counties. These 10 counties should be the counties that have the highest number of cases on that particular date. TO solve this task, make sure to sort the dataframe accordingly each time you call the function.\n",
    "    \n",
    "    "
   ]
  },
  {
   "cell_type": "code",
   "execution_count": 8,
   "metadata": {},
   "outputs": [],
   "source": [
    "def draw_sorted_county_bars(state_alpha_code):\n",
    "    '''your code here'''"
   ]
  }
 ],
 "metadata": {
  "kernelspec": {
   "display_name": "Python 3 (ipykernel)",
   "language": "python",
   "name": "python3"
  },
  "language_info": {
   "codemirror_mode": {
    "name": "ipython",
    "version": 3
   },
   "file_extension": ".py",
   "mimetype": "text/x-python",
   "name": "python",
   "nbconvert_exporter": "python",
   "pygments_lexer": "ipython3",
   "version": "3.11.9"
  }
 },
 "nbformat": 4,
 "nbformat_minor": 4
}
